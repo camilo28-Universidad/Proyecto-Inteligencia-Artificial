{
  "nbformat": 4,
  "nbformat_minor": 0,
  "metadata": {
    "kernelspec": {
      "display_name": "Python 3",
      "language": "python",
      "name": "python3"
    },
    "language_info": {
      "codemirror_mode": {
        "name": "ipython",
        "version": 3
      },
      "file_extension": ".py",
      "mimetype": "text/x-python",
      "name": "python",
      "nbconvert_exporter": "python",
      "pygments_lexer": "ipython3",
      "version": "3.8.5"
    },
    "colab": {
      "name": "Prueba.ipynb",
      "provenance": [],
      "collapsed_sections": [],
      "toc_visible": true,
      "include_colab_link": true
    }
  },
  "cells": [
    {
      "cell_type": "markdown",
      "metadata": {
        "id": "view-in-github",
        "colab_type": "text"
      },
      "source": [
        "<a href=\"https://colab.research.google.com/github/camilo28-Universidad/Proyecto-Inteligencia-Artificial/blob/main/Prueba.ipynb\" target=\"_parent\"><img src=\"https://colab.research.google.com/assets/colab-badge.svg\" alt=\"Open In Colab\"/></a>"
      ]
    },
    {
      "cell_type": "markdown",
      "metadata": {
        "id": "PGdCn7_uMdsS"
      },
      "source": [
        "# Proyecto Inteligencia Artificial\n",
        "\n",
        "###Camilo Andres Barbosa Molina\n",
        "\n",
        "[GitHub](https://github.com/camilo28-Universidad/Proyecto-Inteligencia-Artificial/) Invitacón Enviada \n",
        "\n",
        "Dataset escogido: [Dataset](https://www.kaggle.com/neuromusic/avocado-prices)\n"
      ]
    },
    {
      "cell_type": "markdown",
      "metadata": {
        "id": "5ArhqE4g2s5J"
      },
      "source": [
        "#Primera Entrega"
      ]
    },
    {
      "cell_type": "markdown",
      "metadata": {
        "id": "1jf0cSNzD1nS"
      },
      "source": [
        "##Contexto\r\n",
        "Es un hecho bien conocido que los Millenials AMAN las tostadas de aguacate. También es un hecho bien conocido que todos los Millenials viven en los sótanos de sus padres.\r\n",
        "\r\n",
        "**¡Claramente, no están comprando una casa porque están comprando demasiadas tostadas de aguacate!**\r\n",
        "\r\n",
        "Pero tal vez haya esperanza ... si un Millenial pudiera encontrar una ciudad con aguacates baratos, podría vivir el Sueño Americano del Milenio.\r\n",
        "\r\n",
        "Tomado de : [Website](https://www.kaggle.com/neuromusic/avocado-prices)"
      ]
    },
    {
      "cell_type": "markdown",
      "metadata": {
        "id": "YwOP3AXqPz_B"
      },
      "source": [
        "##Contenido\r\n",
        "La siguiente tabla representa los datos de escaneo de minoristas semanales de 2018 para el volumen minorista nacional (unidades) y el precio. Los datos de escaneo minorista provienen directamente de las cajas registradoras de los minoristas en función de las ventas minoristas reales de aguacates Hass. A partir de 2013, la siguiente tabla refleja un conjunto ampliado de datos minoristas de múltiples puntos de venta. Los informes de múltiples puntos de venta incluyen una agregación de los siguientes canales: abarrotes, misa, clubes, drogas, dólares y militares. El precio promedio (de aguacates) en la tabla refleja un costo por unidad (por aguacate), incluso cuando se venden varias unidades (aguacates) en bolsas. Los códigos de búsqueda de productos (PLU) de la tabla son solo para aguacates Hass. Otras variedades de aguacates (por ejemplo, pieles verdes) no se incluyen en esta tabla.\r\n",
        "\r\n",
        "\r\n",
        "Tomado de : [Website](https://www.kaggle.com/neuromusic/avocado-prices)"
      ]
    },
    {
      "cell_type": "markdown",
      "metadata": {
        "id": "9p-6PcABNmod"
      },
      "source": [
        "## Importar\r\n"
      ]
    },
    {
      "cell_type": "code",
      "metadata": {
        "id": "i1ApOfj5NsAA"
      },
      "source": [
        "import numpy as np\r\n",
        "import pandas as pd\r\n",
        "import seaborn as sns\r\n"
      ],
      "execution_count": null,
      "outputs": []
    },
    {
      "cell_type": "markdown",
      "metadata": {
        "id": "QaXn8BO6C1lp"
      },
      "source": [
        "## Importar Dataset\r\n",
        "\r\n",
        "¡Si no abre el NoteBook con el archivo .csv recuerda visitar el GitHub para obtenerlo, este se debe guardar en la carpeta sample_date!"
      ]
    },
    {
      "cell_type": "code",
      "metadata": {
        "id": "ng5pl1QrMdse"
      },
      "source": [
        "#Importar Dataser con pd.read_csv\r\n",
        "aguacates_data = pd.read_csv('sample_data/avocado.csv',index_col=0)"
      ],
      "execution_count": null,
      "outputs": []
    },
    {
      "cell_type": "code",
      "metadata": {
        "id": "pcLNcIXKN0jX"
      },
      "source": [
        "#Visualizar la data\r\n",
        "agucates_data"
      ],
      "execution_count": null,
      "outputs": []
    },
    {
      "cell_type": "code",
      "metadata": {
        "id": "q6D-pz65MeJz"
      },
      "source": [
        "#Visualizar primeras  cinco filas de la data\r\n",
        "aguacates_data.head()\r\n"
      ],
      "execution_count": null,
      "outputs": []
    },
    {
      "cell_type": "markdown",
      "metadata": {
        "id": "_X7B8EPFNLkJ"
      },
      "source": [
        "##Información de columnas\r\n",
        "* Date: la fecha de la observación\r\n",
        "* AveragePrice: el precio medio de un solo aguacate\r\n",
        "* type: convencional u orgánico\r\n",
        "* year: el año\r\n",
        "* region: la ciudad o región de la observación\r\n",
        "* TotalVolume: número total de aguacates vendidos\r\n",
        "* 4046: Número total de aguacates con PLU 4046 vendidos\r\n",
        "* 4225: Número total de aguacates con PLU 4225 vendidos\r\n",
        "* 4770: Número total de aguacates con PLU 4770 vendidos"
      ]
    },
    {
      "cell_type": "markdown",
      "metadata": {
        "id": "2cywhfe-QVdI"
      },
      "source": [
        "## Análisis de datos"
      ]
    },
    {
      "cell_type": "code",
      "metadata": {
        "id": "VL-qR49GUtDi"
      },
      "source": [
        "#Averguar la cantidad de datos de Dataframe\r\n",
        "aguacates_data.shape"
      ],
      "execution_count": null,
      "outputs": []
    },
    {
      "cell_type": "code",
      "metadata": {
        "id": "FXydetGXTbCi"
      },
      "source": [
        "#Recordar comandos como loc y iloc para trabar con columnas y filas especificas\r\n",
        "#de una DataFrame\r\n",
        "\r\n",
        "aguacates_data.loc[:,['AveragePrice']]\r\n"
      ],
      "execution_count": null,
      "outputs": []
    },
    {
      "cell_type": "code",
      "metadata": {
        "id": "d0qGlY-BV6Wm"
      },
      "source": [
        "#Otros ejemplos\r\n",
        "aguacates_data.loc[aguacates_data.type.isin(['conventional'])]"
      ],
      "execution_count": null,
      "outputs": []
    },
    {
      "cell_type": "code",
      "metadata": {
        "id": "HABa2LXVWEFJ"
      },
      "source": [
        "#Revisar si existen valores nulos\r\n",
        "#De manera Global\r\n",
        "#aguacates_data.isnull()\r\n",
        "\r\n",
        "#Realizar valores que existen dentro de una columna especifica\r\n",
        "# agucates_data.Date.isnull().unique()\r\n",
        "# agucates_data.AveragePrice.isnull().unique()\r\n",
        "# agucates_data.TotalVolume.isnull().unique()\r\n",
        "# agucates_data.PLU4046.isnull().unique()\r\n",
        "# agucates_data.PLU4225.isnull().unique()\r\n",
        "# agucates_data.PLU4770.isnull().unique()\r\n",
        "# agucates_data.TotalBags.isnull().unique()\r\n",
        "# agucates_data.SmallBags.isnull().unique()\r\n",
        "# agucates_data.LargeBags.isnull().unique()\r\n",
        "# agucates_data.XLargeBags.isnull().unique()\r\n",
        "# agucates_data.type.isnull().unique()\r\n",
        "# agucates_data.year.isnull().unique()\r\n",
        "# agucates_data.region.isnull().unique()\r\n",
        "\r\n",
        "\r\n",
        "#O de forma mas profunda\r\n",
        "\r\n",
        "agucates_data.loc[agucates_data.region.isnull()]\r\n",
        "\r\n"
      ],
      "execution_count": null,
      "outputs": []
    },
    {
      "cell_type": "code",
      "metadata": {
        "id": "KqOFgqTWngM6",
        "colab": {
          "base_uri": "https://localhost:8080/"
        },
        "outputId": "108cb4bb-6117-4794-afe6-90b8a36bdbb6"
      },
      "source": [
        "#Es importante reconocer vales unicos en columnas como type, year y region\r\n",
        "#aguacates_data.type.unique()\r\n",
        "#aguacates_data.year.unique()\r\n",
        "aguacates_data.region.unique()"
      ],
      "execution_count": null,
      "outputs": [
        {
          "output_type": "execute_result",
          "data": {
            "text/plain": [
              "array(['Albany', 'Atlanta', 'BaltimoreWashington', 'Boise', 'Boston',\n",
              "       'BuffaloRochester', 'California', 'Charlotte', 'Chicago',\n",
              "       'CincinnatiDayton', 'Columbus', 'DallasFtWorth', 'Denver',\n",
              "       'Detroit', 'GrandRapids', 'GreatLakes', 'HarrisburgScranton',\n",
              "       'HartfordSpringfield', 'Houston', 'Indianapolis', 'Jacksonville',\n",
              "       'LasVegas', 'LosAngeles', 'Louisville', 'MiamiFtLauderdale',\n",
              "       'Midsouth', 'Nashville', 'NewOrleansMobile', 'NewYork',\n",
              "       'Northeast', 'NorthernNewEngland', 'Orlando', 'Philadelphia',\n",
              "       'PhoenixTucson', 'Pittsburgh', 'Plains', 'Portland',\n",
              "       'RaleighGreensboro', 'RichmondNorfolk', 'Roanoke', 'Sacramento',\n",
              "       'SanDiego', 'SanFrancisco', 'Seattle', 'SouthCarolina',\n",
              "       'SouthCentral', 'Southeast', 'Spokane', 'StLouis', 'Syracuse',\n",
              "       'Tampa', 'TotalUS', 'West', 'WestTexNewMexico'], dtype=object)"
            ]
          },
          "metadata": {
            "tags": []
          },
          "execution_count": 7
        }
      ]
    },
    {
      "cell_type": "code",
      "metadata": {
        "id": "GBz4wBSCnoGt"
      },
      "source": [
        "#Funciones como .describe permiten ver las operaciones como mean,count,std,min,max\r\n",
        "#Para colummans como AveragePrice, TotalVolume y cada PLU\r\n",
        "#aguacates_data.PLU4046.describe()\r\n",
        "#aguacates_data.PLU4225.describe()\r\n",
        "#aguacates_data.PLU4770.describe()\r\n",
        "#aguacates_data.TotalVolume.describe()\r\n",
        "aguacates_data.AveragePrice.describe()"
      ],
      "execution_count": null,
      "outputs": []
    },
    {
      "cell_type": "code",
      "metadata": {
        "id": "YCyvsFoDmf2V"
      },
      "source": [
        "#la funcion groupby para realizar operaciones de acuerdo a una dos columnas\r\n",
        "#aguacates_data.groupby(['Date']).AveragePrice.agg([len, min, max])\r\n",
        "aguacates_data.groupby(['region']).AveragePrice.agg([ min, max])"
      ],
      "execution_count": null,
      "outputs": []
    },
    {
      "cell_type": "code",
      "metadata": {
        "id": "89BMI890mgFA",
        "colab": {
          "base_uri": "https://localhost:8080/"
        },
        "outputId": "4c99f126-a0c9-4af1-9590-1fc38dbc7478"
      },
      "source": [
        "#Revisar el tipo de datos de todas las columnas y si es necesario cambiarla de tipo\r\n",
        "aguacates_data.dtypes\r\n",
        "\r\n",
        "#Como convertir la columna date a  tipo fecha\r\n",
        "aguacates_data.Date = pd.to_datetime(aguacates_data['Date'])\r\n",
        "aguacates_data.dtypes"
      ],
      "execution_count": null,
      "outputs": [
        {
          "output_type": "execute_result",
          "data": {
            "text/plain": [
              "Date            datetime64[ns]\n",
              "AveragePrice           float64\n",
              "TotalVolume            float64\n",
              "PLU4046                float64\n",
              "PLU4225                float64\n",
              "PLU4770                float64\n",
              "TotalBags              float64\n",
              "SmallBags              float64\n",
              "LargeBags              float64\n",
              "XLargeBags             float64\n",
              "type                    object\n",
              "year                     int64\n",
              "region                  object\n",
              "dtype: object"
            ]
          },
          "metadata": {
            "tags": []
          },
          "execution_count": 8
        }
      ]
    }
  ]
}