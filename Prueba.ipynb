{
  "nbformat": 4,
  "nbformat_minor": 0,
  "metadata": {
    "kernelspec": {
      "display_name": "Python 3",
      "language": "python",
      "name": "python3"
    },
    "language_info": {
      "codemirror_mode": {
        "name": "ipython",
        "version": 3
      },
      "file_extension": ".py",
      "mimetype": "text/x-python",
      "name": "python",
      "nbconvert_exporter": "python",
      "pygments_lexer": "ipython3",
      "version": "3.8.5"
    },
    "colab": {
      "name": "Prueba.ipynb",
      "provenance": [],
      "collapsed_sections": [],
      "include_colab_link": true
    }
  },
  "cells": [
    {
      "cell_type": "markdown",
      "metadata": {
        "id": "view-in-github",
        "colab_type": "text"
      },
      "source": [
        "<a href=\"https://colab.research.google.com/github/camilo28-Universidad/Proyecto-Inteligencia-Artificial/blob/main/Prueba.ipynb\" target=\"_parent\"><img src=\"https://colab.research.google.com/assets/colab-badge.svg\" alt=\"Open In Colab\"/></a>"
      ]
    },
    {
      "cell_type": "markdown",
      "metadata": {
        "id": "PGdCn7_uMdsS"
      },
      "source": [
        "# Proyecto Inteligencia Artificial\n",
        "\n",
        "###Camilo Andres Barbosa Molina\n",
        "\n",
        "[GitHub](https://github.com/camilo28-Universidad/Proyecto-Inteligencia-Artificial/) Invitacón Enviada \n",
        "\n",
        "Dataset escogido: [Dataset](https://www.kaggle.com/neuromusic/avocado-prices)\n"
      ]
    },
    {
      "cell_type": "markdown",
      "metadata": {
        "id": "5ArhqE4g2s5J"
      },
      "source": [
        "#Primera Entrega"
      ]
    },
    {
      "cell_type": "markdown",
      "metadata": {
        "id": "1jf0cSNzD1nS"
      },
      "source": [
        "##Contexto\r\n",
        "Es un hecho bien conocido que los Millenials AMAN las tostadas de aguacate. También es un hecho bien conocido que todos los Millenials viven en los sótanos de sus padres.\r\n",
        "\r\n",
        "**¡Claramente, no están comprando una casa porque están comprando demasiadas tostadas de aguacate!**\r\n",
        "\r\n",
        "Pero tal vez haya esperanza ... si un Millenial pudiera encontrar una ciudad con aguacates baratos, podría vivir el Sueño Americano del Milenio.\r\n",
        "\r\n",
        "Tomado de : [Website](https://www.kaggle.com/neuromusic/avocado-prices)"
      ]
    },
    {
      "cell_type": "markdown",
      "metadata": {
        "id": "YwOP3AXqPz_B"
      },
      "source": [
        "##Contenido\r\n",
        "La siguiente tabla representa los datos de escaneo de minoristas semanales de 2018 para el volumen minorista nacional (unidades) y el precio. Los datos de escaneo minorista provienen directamente de las cajas registradoras de los minoristas en función de las ventas minoristas reales de aguacates Hass. A partir de 2013, la siguiente tabla refleja un conjunto ampliado de datos minoristas de múltiples puntos de venta. Los informes de múltiples puntos de venta incluyen una agregación de los siguientes canales: abarrotes, misa, clubes, drogas, dólares y militares. El precio promedio (de aguacates) en la tabla refleja un costo por unidad (por aguacate), incluso cuando se venden varias unidades (aguacates) en bolsas. Los códigos de búsqueda de productos (PLU) de la tabla son solo para aguacates Hass. Otras variedades de aguacates (por ejemplo, pieles verdes) no se incluyen en esta tabla.\r\n",
        "\r\n",
        "\r\n",
        "Tomado de : [Website](https://www.kaggle.com/neuromusic/avocado-prices)"
      ]
    },
    {
      "cell_type": "markdown",
      "metadata": {
        "id": "9p-6PcABNmod"
      },
      "source": [
        "## Importar\r\n"
      ]
    },
    {
      "cell_type": "code",
      "metadata": {
        "id": "i1ApOfj5NsAA"
      },
      "source": [
        "import numpy as np\r\n",
        "import pandas as pd\r\n",
        "import seaborn as sns\r\n"
      ],
      "execution_count": null,
      "outputs": []
    },
    {
      "cell_type": "markdown",
      "metadata": {
        "id": "QaXn8BO6C1lp"
      },
      "source": [
        "## Importar Dataset\r\n",
        "\r\n",
        "¡Si no abre el NoteBook con el archivo .csv recuerda visitar el GitHub para obtenerlo, este se debe guardar en la carpeta sample_date!"
      ]
    },
    {
      "cell_type": "code",
      "metadata": {
        "id": "ng5pl1QrMdse"
      },
      "source": [
        "#Importar Dataser con pd.read_csv\r\n",
        "agucates_data = pd.read_csv('sample_data/avocado.csv',index_col=0)"
      ],
      "execution_count": null,
      "outputs": []
    },
    {
      "cell_type": "code",
      "metadata": {
        "id": "pcLNcIXKN0jX"
      },
      "source": [
        "#Visualizar la data\r\n",
        "agucates_data"
      ],
      "execution_count": null,
      "outputs": []
    },
    {
      "cell_type": "code",
      "metadata": {
        "id": "q6D-pz65MeJz",
        "colab": {
          "base_uri": "https://localhost:8080/",
          "height": 202
        },
        "outputId": "d80a5ce2-a91c-489d-fa32-07f09e583c30"
      },
      "source": [
        "#Visualizar primeras  cinco filas de la data\r\n",
        "agucates_data.head()\r\n"
      ],
      "execution_count": null,
      "outputs": [
        {
          "output_type": "execute_result",
          "data": {
            "text/html": [
              "<div>\n",
              "<style scoped>\n",
              "    .dataframe tbody tr th:only-of-type {\n",
              "        vertical-align: middle;\n",
              "    }\n",
              "\n",
              "    .dataframe tbody tr th {\n",
              "        vertical-align: top;\n",
              "    }\n",
              "\n",
              "    .dataframe thead th {\n",
              "        text-align: right;\n",
              "    }\n",
              "</style>\n",
              "<table border=\"1\" class=\"dataframe\">\n",
              "  <thead>\n",
              "    <tr style=\"text-align: right;\">\n",
              "      <th></th>\n",
              "      <th>Date</th>\n",
              "      <th>AveragePrice</th>\n",
              "      <th>TotalVolume</th>\n",
              "      <th>PLU4046</th>\n",
              "      <th>PLU4225</th>\n",
              "      <th>PLU4770</th>\n",
              "      <th>TotalBags</th>\n",
              "      <th>SmallBags</th>\n",
              "      <th>LargeBags</th>\n",
              "      <th>XLargeBags</th>\n",
              "      <th>type</th>\n",
              "      <th>year</th>\n",
              "      <th>region</th>\n",
              "    </tr>\n",
              "  </thead>\n",
              "  <tbody>\n",
              "    <tr>\n",
              "      <th>0</th>\n",
              "      <td>2015-12-27</td>\n",
              "      <td>1.33</td>\n",
              "      <td>64236.62</td>\n",
              "      <td>1036.74</td>\n",
              "      <td>54454.85</td>\n",
              "      <td>48.16</td>\n",
              "      <td>8696.87</td>\n",
              "      <td>8603.62</td>\n",
              "      <td>93.25</td>\n",
              "      <td>0.0</td>\n",
              "      <td>conventional</td>\n",
              "      <td>2015</td>\n",
              "      <td>Albany</td>\n",
              "    </tr>\n",
              "    <tr>\n",
              "      <th>1</th>\n",
              "      <td>2015-12-20</td>\n",
              "      <td>1.35</td>\n",
              "      <td>54876.98</td>\n",
              "      <td>674.28</td>\n",
              "      <td>44638.81</td>\n",
              "      <td>58.33</td>\n",
              "      <td>9505.56</td>\n",
              "      <td>9408.07</td>\n",
              "      <td>97.49</td>\n",
              "      <td>0.0</td>\n",
              "      <td>conventional</td>\n",
              "      <td>2015</td>\n",
              "      <td>Albany</td>\n",
              "    </tr>\n",
              "    <tr>\n",
              "      <th>2</th>\n",
              "      <td>2015-12-13</td>\n",
              "      <td>0.93</td>\n",
              "      <td>118220.22</td>\n",
              "      <td>794.70</td>\n",
              "      <td>109149.67</td>\n",
              "      <td>130.50</td>\n",
              "      <td>8145.35</td>\n",
              "      <td>8042.21</td>\n",
              "      <td>103.14</td>\n",
              "      <td>0.0</td>\n",
              "      <td>conventional</td>\n",
              "      <td>2015</td>\n",
              "      <td>Albany</td>\n",
              "    </tr>\n",
              "    <tr>\n",
              "      <th>3</th>\n",
              "      <td>2015-12-06</td>\n",
              "      <td>1.08</td>\n",
              "      <td>78992.15</td>\n",
              "      <td>1132.00</td>\n",
              "      <td>71976.41</td>\n",
              "      <td>72.58</td>\n",
              "      <td>5811.16</td>\n",
              "      <td>5677.40</td>\n",
              "      <td>133.76</td>\n",
              "      <td>0.0</td>\n",
              "      <td>conventional</td>\n",
              "      <td>2015</td>\n",
              "      <td>Albany</td>\n",
              "    </tr>\n",
              "    <tr>\n",
              "      <th>4</th>\n",
              "      <td>2015-11-29</td>\n",
              "      <td>1.28</td>\n",
              "      <td>51039.60</td>\n",
              "      <td>941.48</td>\n",
              "      <td>43838.39</td>\n",
              "      <td>75.78</td>\n",
              "      <td>6183.95</td>\n",
              "      <td>5986.26</td>\n",
              "      <td>197.69</td>\n",
              "      <td>0.0</td>\n",
              "      <td>conventional</td>\n",
              "      <td>2015</td>\n",
              "      <td>Albany</td>\n",
              "    </tr>\n",
              "  </tbody>\n",
              "</table>\n",
              "</div>"
            ],
            "text/plain": [
              "        Date  AveragePrice  TotalVolume  ...          type  year  region\n",
              "0 2015-12-27          1.33     64236.62  ...  conventional  2015  Albany\n",
              "1 2015-12-20          1.35     54876.98  ...  conventional  2015  Albany\n",
              "2 2015-12-13          0.93    118220.22  ...  conventional  2015  Albany\n",
              "3 2015-12-06          1.08     78992.15  ...  conventional  2015  Albany\n",
              "4 2015-11-29          1.28     51039.60  ...  conventional  2015  Albany\n",
              "\n",
              "[5 rows x 13 columns]"
            ]
          },
          "metadata": {
            "tags": []
          },
          "execution_count": 125
        }
      ]
    },
    {
      "cell_type": "markdown",
      "metadata": {
        "id": "_X7B8EPFNLkJ"
      },
      "source": [
        "##Información de columnas\r\n",
        "* Date: la fecha de la observación\r\n",
        "* AveragePrice: el precio medio de un solo aguacate\r\n",
        "* type: convencional u orgánico\r\n",
        "* year: el año\r\n",
        "* region: la ciudad o región de la observación\r\n",
        "* TotalVolume: número total de aguacates vendidos\r\n",
        "* 4046: Número total de aguacates con PLU 4046 vendidos\r\n",
        "* 4225: Número total de aguacates con PLU 4225 vendidos\r\n",
        "* 4770: Número total de aguacates con PLU 4770 vendidos"
      ]
    },
    {
      "cell_type": "markdown",
      "metadata": {
        "id": "2cywhfe-QVdI"
      },
      "source": [
        "## Análisis de datos"
      ]
    },
    {
      "cell_type": "code",
      "metadata": {
        "colab": {
          "base_uri": "https://localhost:8080/"
        },
        "id": "VL-qR49GUtDi",
        "outputId": "ee866590-b9cf-489f-9182-1f2563a0c359"
      },
      "source": [
        "#Averguar la cantidad de datos de Dataframe\r\n",
        "aguacates_data.shape"
      ],
      "execution_count": null,
      "outputs": [
        {
          "output_type": "execute_result",
          "data": {
            "text/plain": [
              "(18249, 13)"
            ]
          },
          "metadata": {
            "tags": []
          },
          "execution_count": 29
        }
      ]
    },
    {
      "cell_type": "code",
      "metadata": {
        "id": "FXydetGXTbCi"
      },
      "source": [
        "#Recordar comandos como loc y iloc para trabar con columnas y filas especificas\r\n",
        "#de una DataFrame\r\n",
        "\r\n",
        "aguacates_data.loc[:,['AveragePrice']]\r\n"
      ],
      "execution_count": null,
      "outputs": []
    },
    {
      "cell_type": "code",
      "metadata": {
        "id": "d0qGlY-BV6Wm"
      },
      "source": [
        "#Otros ejemplos\r\n",
        "aguacates_data.loc[aguacates_data.type.isin(['conventional'])]"
      ],
      "execution_count": null,
      "outputs": []
    },
    {
      "cell_type": "code",
      "metadata": {
        "id": "HABa2LXVWEFJ"
      },
      "source": [
        "#Revisar si existen valores nulos\r\n",
        "#De manera Global\r\n",
        "#aguacates_data.isnull()\r\n",
        "\r\n",
        "#O de forma mas profunda\r\n",
        "#aguacates_data.loc[aguacates_data.Date.isnull()]\r\n",
        "#aguacates_data.loc[aguacates_data.AveragePrice.isnull()]\r\n",
        "#aguacates_data.loc[aguacates_data.TotalVolume.isnull()]\r\n",
        "#aguacates_data.loc[aguacates_data.PLU4046.isnull()]\r\n",
        "#aguacates_data.loc[aguacates_data.PLU4225.isnull()]\r\n",
        "#aguacates_data.loc[aguacates_data.PLU4770.isnull()]\r\n",
        "#aguacates_data.loc[aguacates_data.TotalBags.isnull()]\r\n",
        "#aguacates_data.loc[aguacates_data.SmallBags.isnull()]\r\n",
        "#aguacates_data.loc[aguacates_data.LargeBags.isnull()]\r\n",
        "#aguacates_data.loc[aguacates_data.type.isnull()]\r\n",
        "#aguacates_data.loc[aguacates_data.year.isnull()]\r\n",
        "#aguacates_data.loc[aguacates_data.region.isnull()]\r\n",
        "aguacates_data.loc[aguacates_data.SmallBags.isnull()]\r\n"
      ],
      "execution_count": null,
      "outputs": []
    },
    {
      "cell_type": "code",
      "metadata": {
        "id": "KqOFgqTWngM6"
      },
      "source": [
        "#Es importante reconocer vales unicos en columnas como type, year y region\r\n",
        "#aguacates_data.type.unique()\r\n",
        "#aguacates_data.year.unique()\r\n",
        "aguacates_data.region.unique()"
      ],
      "execution_count": null,
      "outputs": []
    },
    {
      "cell_type": "code",
      "metadata": {
        "id": "GBz4wBSCnoGt"
      },
      "source": [
        "#Funciones como .describe permiten ver las operaciones como mean,count,std,min,max\r\n",
        "#Para colummans como AveragePrice, TotalVolume y cada PLU\r\n",
        "#aguacates_data.PLU4046.describe()\r\n",
        "#aguacates_data.PLU4225.describe()\r\n",
        "#aguacates_data.PLU4770.describe()\r\n",
        "#aguacates_data.TotalVolume.describe()\r\n",
        "aguacates_data.AveragePrice.describe()"
      ],
      "execution_count": null,
      "outputs": []
    },
    {
      "cell_type": "code",
      "metadata": {
        "id": "YCyvsFoDmf2V"
      },
      "source": [
        "#la funcion groupby para realizar operaciones de acuerdo a una dos columnas\r\n",
        "#aguacates_data.groupby(['Date']).AveragePrice.agg([len, min, max])\r\n",
        "aguacates_data.groupby(['region']).AveragePrice.agg([ min, max])"
      ],
      "execution_count": null,
      "outputs": []
    },
    {
      "cell_type": "code",
      "metadata": {
        "id": "89BMI890mgFA"
      },
      "source": [
        "#Revisar el tipo de datos de todas las columnas y si es necesario cambiarla de tipo\r\n",
        "aguacates_data.dtypes\r\n",
        "\r\n",
        "#Como convertir la columna date a  tipo fecha\r\n",
        "aguacates_data.Date = pd.to_datetime(aguacates_data['Date'])\r\n",
        "aguacates_data.dtypes"
      ],
      "execution_count": null,
      "outputs": []
    }
  ]
}